{
 "cells": [
  {
   "cell_type": "markdown",
   "metadata": {},
   "source": [
    "This part sets up imagededup and calculates the perceptual hashes of all the images located in `folder_name`"
   ]
  },
  {
   "cell_type": "code",
   "execution_count": null,
   "metadata": {},
   "outputs": [],
   "source": [
    "folder_name = \"sample500\"\n",
    "\n",
    "from imagededup.methods import PHash\n",
    "\n",
    "phasher = PHash()\n",
    "\n",
    "encodings = phasher.encode_images(image_dir=folder_name)\n",
    "duplicates = phasher.find_duplicates(encoding_map=encodings)"
   ]
  },
  {
   "cell_type": "markdown",
   "metadata": {},
   "source": [
    "Script for removing duplicate images using os.system and rm"
   ]
  },
  {
   "cell_type": "code",
   "execution_count": null,
   "metadata": {},
   "outputs": [],
   "source": [
    "import os\n",
    "\n",
    "dedup_folder = f\"{folder_name}_dedup\"\n",
    "\n",
    "os.system(f\"mkdir -p {dedup_folder}\")\n",
    "\n",
    "os.system(f\"chmod 777 {dedup_folder}\")\n",
    "\n",
    "fname_split = folder_name.rstrip('/').split('/')[-1]\n",
    "\n",
    "i = 0\n",
    "while os.path.isdir(f\"{dedup_folder}/{fname_split}_{str(i)}\"):\n",
    "\ti += 1\n",
    "\n",
    "os.system(f\"cp -pr {folder_name} {dedup_folder}/{fname_split}_{str(i)}\")\n",
    "\n",
    "os.system(f\"chmod -R 777 {dedup_folder}/{fname_split}_{str(i)}\")\n",
    "\n",
    "for key in duplicates:\n",
    "\tfor dup in duplicates[key]:\n",
    "\t\tfilename = f\"{dedup_folder}/{fname_split}_{str(i)}/{dup}\"\n",
    "\t\t\n",
    "\t\tif not os.path.isfile(filename):\n",
    "\t\t\tcontinue\n",
    "\n",
    "\t\tos.system(f\"rm {filename} 2>/dev/null\")\n",
    "\n",
    "print(\"Done\")\n"
   ]
  }
 ],
 "metadata": {
  "kernelspec": {
   "display_name": "Python 3",
   "language": "python",
   "name": "python3"
  },
  "language_info": {
   "codemirror_mode": {
    "name": "ipython",
    "version": 3
   },
   "file_extension": ".py",
   "mimetype": "text/x-python",
   "name": "python",
   "nbconvert_exporter": "python",
   "pygments_lexer": "ipython3",
   "version": "3.10.12"
  },
  "orig_nbformat": 4
 },
 "nbformat": 4,
 "nbformat_minor": 2
}
